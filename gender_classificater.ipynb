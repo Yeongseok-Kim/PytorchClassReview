{
  "nbformat": 4,
  "nbformat_minor": 0,
  "metadata": {
    "colab": {
      "name": "gender_classificater.ipynb",
      "provenance": [],
      "collapsed_sections": [],
      "include_colab_link": true
    },
    "kernelspec": {
      "name": "python3",
      "display_name": "Python 3"
    },
    "accelerator": "TPU"
  },
  "cells": [
    {
      "cell_type": "markdown",
      "metadata": {
        "id": "view-in-github",
        "colab_type": "text"
      },
      "source": [
        "<a href=\"https://colab.research.google.com/github/Yeongseok-Kim/PytorchClassReview/blob/master/gender_classificater.ipynb\" target=\"_parent\"><img src=\"https://colab.research.google.com/assets/colab-badge.svg\" alt=\"Open In Colab\"/></a>"
      ]
    },
    {
      "cell_type": "code",
      "metadata": {
        "id": "BB7Ri1GRDShD",
        "colab_type": "code",
        "colab": {}
      },
      "source": [
        "import torch\n",
        "import os\n",
        "import torchvision\n",
        "import torchvision.transforms as transforms\n",
        "from torch.utils.data.dataset import Dataset\n",
        "from PIL import Image\n",
        "\n",
        "\n",
        "\n",
        "class MyDataset(Dataset):\n",
        "    def __init__(self, female_dir, male_dir):\n",
        "        self.female_list = [female_dir + file_name for file_name in os.listdir(female_dir)]\n",
        "        self.male_list = [male_dir + file_name for file_name in os.listdir(male_dir)]\n",
        "        self.transforms = transforms.Compose([transforms.CenterCrop((128, 128)),\n",
        "                                              transforms.Resize((64, 64)),\n",
        "                                              transforms.ToTensor(),\n",
        "                                              transforms.Normalize((.5, .5, .5), (.5, .5, .5))])\n",
        "    \n",
        "    def __len__(self):\n",
        "        return len(self.female_list + self.male_list)\n",
        "    \n",
        "    def __getitem__(self, index):\n",
        "        female_len = len(self.female_list)\n",
        "        if index < female_len:\n",
        "            img = Image.open(self.female_list[index])\n",
        "            label = torch.zeros(1)\n",
        "        else:\n",
        "            img = Image.open(self.male_list[index - female_len])\n",
        "            label = torch.ones(1)\n",
        "        img = self.transforms(img)\n",
        "        return img, label"
      ],
      "execution_count": 0,
      "outputs": []
    },
    {
      "cell_type": "code",
      "metadata": {
        "id": "yIUu5gT8brP6",
        "colab_type": "code",
        "colab": {}
      },
      "source": [
        "import torch.nn as nn\n",
        "\n",
        "\n",
        "\n",
        "class Classificater(nn.Module):\n",
        "    def __init__(self):\n",
        "        super(Classificater, self).__init__()\n",
        "        self.layer = nn.Sequential(\n",
        "            nn.Conv2d(3, 64, 3, 1, 1),\n",
        "            nn.ReLU(),\n",
        "            nn.MaxPool2d(2, 2),\n",
        "\n",
        "            nn.Conv2d(64, 128, 3, 1, 1),\n",
        "            nn.ReLU(),\n",
        "            nn.MaxPool2d(2, 2),\n",
        "\n",
        "            nn.Conv2d(128, 256, 3, 1, 1),\n",
        "            nn.ReLU(),\n",
        "            nn.MaxPool2d(2, 2),\n",
        "\n",
        "            nn.Conv2d(256, 512, 3, 1, 1),\n",
        "            nn.ReLU(),\n",
        "            nn.MaxPool2d(2, 2),\n",
        "\n",
        "            nn.Conv2d(512, 1024, 3, 1, 1),\n",
        "            nn.ReLU(),\n",
        "            nn.MaxPool2d(2, 2))\n",
        "        \n",
        "        self.fc = nn.Sequential(\n",
        "            nn.Linear(1024 * 2 * 2, 1),\n",
        "            nn.Sigmoid())\n",
        "        \n",
        "    def forward(self, x):\n",
        "        out = self.layer(x)\n",
        "        out = out.view(out.size(0), -1)\n",
        "        out = self.fc(out)\n",
        "        return out"
      ],
      "execution_count": 0,
      "outputs": []
    }
  ]
}