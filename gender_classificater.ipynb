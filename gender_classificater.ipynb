{
  "nbformat": 4,
  "nbformat_minor": 0,
  "metadata": {
    "colab": {
      "name": "gender_classificater.ipynb",
      "provenance": [],
      "collapsed_sections": []
    },
    "kernelspec": {
      "name": "python3",
      "display_name": "Python 3"
    },
    "accelerator": "TPU"
  },
  "cells": [
    {
      "cell_type": "code",
      "metadata": {
        "id": "BB7Ri1GRDShD",
        "colab_type": "code",
        "colab": {}
      },
      "source": [
        "import torch\n",
        "import os\n",
        "import torchvision\n",
        "import torchvision.transforms as transforms\n",
        "from torch.utils.data.dataset import Dataset\n",
        "from PIL import Image\n",
        "\n",
        "\n",
        "\n",
        "class MyDataset(Dataset):\n",
        "    def __init__(self, female_dir, male_dir):\n",
        "        self.female_list = [female_dir + file_name for file_name in os.listdir(female_dir)]\n",
        "        self.male_list = [male_dir + file_name for file_name in os.listdir(male_dir)]\n",
        "        self.transforms = transforms.Compose([transforms.CenterCrop((128, 128)),\n",
        "                                              transforms.Resize((64, 64)),\n",
        "                                              transforms.ToTensor(),\n",
        "                                              transforms.Normalize((.5, .5, .5), (.5, .5, .5))])\n",
        "    \n",
        "    def __len__(self):\n",
        "        return len(self.female_list + self.male_list)\n",
        "    \n",
        "    def __getitem__(self, index):\n",
        "        female_len = len(self.female_list)\n",
        "        if index < female_len:\n",
        "            img = Image.open(self.female_list[index])\n",
        "            label = torch.zeros(1)\n",
        "        else:\n",
        "            img = Image.open(self.male_list[index - female_len])\n",
        "            label = torch.ones(1)\n",
        "        img = self.transforms(img)\n",
        "        return img, label"
      ],
      "execution_count": 0,
      "outputs": []
    }
  ]
}