{
  "nbformat": 4,
  "nbformat_minor": 0,
  "metadata": {
    "colab": {
      "name": "gender_classificater.ipynb",
      "provenance": [],
      "collapsed_sections": [],
      "include_colab_link": true
    },
    "kernelspec": {
      "name": "python3",
      "display_name": "Python 3"
    },
    "accelerator": "GPU"
  },
  "cells": [
    {
      "cell_type": "markdown",
      "metadata": {
        "id": "view-in-github",
        "colab_type": "text"
      },
      "source": [
        "<a href=\"https://colab.research.google.com/github/Yeongseok-Kim/PytorchClassReview/blob/master/gender_classificater.ipynb\" target=\"_parent\"><img src=\"https://colab.research.google.com/assets/colab-badge.svg\" alt=\"Open In Colab\"/></a>"
      ]
    },
    {
      "cell_type": "code",
      "metadata": {
        "id": "BB7Ri1GRDShD",
        "colab_type": "code",
        "colab": {}
      },
      "source": [
        "import torch\n",
        "import os\n",
        "import torchvision\n",
        "import torchvision.transforms as transforms\n",
        "from torch.utils.data.dataset import Dataset\n",
        "from PIL import Image\n",
        "\n",
        "\n",
        "\n",
        "class MyDataset(Dataset):\n",
        "    def __init__(self, female_dir, male_dir):\n",
        "        self.female_list = [female_dir + file_name for file_name in os.listdir(female_dir)]\n",
        "        self.male_list = [male_dir + file_name for file_name in os.listdir(male_dir)]\n",
        "        self.transforms = transforms.Compose([transforms.CenterCrop((128, 128)),\n",
        "                                              transforms.Resize((64, 64)),\n",
        "                                              transforms.ToTensor(),\n",
        "                                              transforms.Normalize((.5, .5, .5), (.5, .5, .5))])\n",
        "    \n",
        "    def __len__(self):\n",
        "        return len(self.female_list + self.male_list)\n",
        "    \n",
        "    def __getitem__(self, index):\n",
        "        female_len = len(self.female_list)\n",
        "        if index < female_len:\n",
        "            img = Image.open(self.female_list[index])\n",
        "            label = torch.zeros(1)\n",
        "        else:\n",
        "            img = Image.open(self.male_list[index - female_len])\n",
        "            label = torch.ones(1)\n",
        "        img = self.transforms(img)\n",
        "        return img, label"
      ],
      "execution_count": 0,
      "outputs": []
    },
    {
      "cell_type": "code",
      "metadata": {
        "id": "yIUu5gT8brP6",
        "colab_type": "code",
        "colab": {}
      },
      "source": [
        "import torch.nn as nn\n",
        "\n",
        "\n",
        "\n",
        "class Classificater(nn.Module):\n",
        "    def __init__(self):\n",
        "        super(Classificater, self).__init__()\n",
        "        self.layer = nn.Sequential(\n",
        "            nn.Conv2d(3, 64, 3, 1, 1),\n",
        "            nn.ReLU(),\n",
        "            nn.MaxPool2d(2, 2),\n",
        "\n",
        "            nn.Conv2d(64, 128, 3, 1, 1),\n",
        "            nn.ReLU(),\n",
        "            nn.MaxPool2d(2, 2),\n",
        "\n",
        "            nn.Conv2d(128, 256, 3, 1, 1),\n",
        "            nn.ReLU(),\n",
        "            nn.MaxPool2d(2, 2),\n",
        "\n",
        "            nn.Conv2d(256, 512, 3, 1, 1),\n",
        "            nn.ReLU(),\n",
        "            nn.MaxPool2d(2, 2),\n",
        "\n",
        "            nn.Conv2d(512, 1024, 3, 1, 1),\n",
        "            nn.ReLU(),\n",
        "            nn.MaxPool2d(2, 2))\n",
        "        \n",
        "        self.fc = nn.Sequential(\n",
        "            nn.Linear(1024 * 2 * 2, 1),\n",
        "            nn.Sigmoid())\n",
        "        \n",
        "    def forward(self, x):\n",
        "        out = self.layer(x)\n",
        "        out = out.view(out.size(0), -1)\n",
        "        out = self.fc(out)\n",
        "        return out"
      ],
      "execution_count": 0,
      "outputs": []
    },
    {
      "cell_type": "code",
      "metadata": {
        "id": "MpOoQtIAXQ79",
        "colab_type": "code",
        "colab": {}
      },
      "source": [
        "from google.colab import drive\n",
        "drive.mount('/content/drive')"
      ],
      "execution_count": 0,
      "outputs": []
    },
    {
      "cell_type": "code",
      "metadata": {
        "id": "P1L49eGyXPsD",
        "colab_type": "code",
        "colab": {}
      },
      "source": [
        "!unzip '/content/drive/My Drive/gender_classification.zip'"
      ],
      "execution_count": 0,
      "outputs": []
    },
    {
      "cell_type": "code",
      "metadata": {
        "id": "MFOqtpo1e77i",
        "colab_type": "code",
        "colab": {}
      },
      "source": [
        "import torch.optim as optim\n",
        "from torch.utils.data import DataLoader\n",
        "\n",
        "if __name__ == '__main__':\n",
        "    device = 'cuda' if torch.cuda.is_available() else 'cpu'\n",
        "    batch_size = 64\n",
        "    train_data = MyDataset('/content/train_set/female/', '/content/train_set/male/')\n",
        "    train_set = DataLoader(train_data, batch_size, True)\n",
        "\n",
        "    test_batch = 64\n",
        "    test_data = MyDataset('/content/test_set/female/', '/content/test_set/male/')\n",
        "    test_set = DataLoader(test_data, test_batch, True)\n",
        "\n",
        "    learning_rate = 0.0002\n",
        "    training_epochs = 50\n",
        "\n",
        "    net = Classificater().to(device)\n",
        "    criterion = nn.BCELoss().to(device)\n",
        "    optimizer = optim.Adam(net.parameters(), learning_rate)\n",
        "\n",
        "    print('Learning started. it takes sometime.')\n",
        "\n",
        "    for epoch in range(training_epochs):\n",
        "        for img, label in train_set:\n",
        "            batch_size = img.size(0)\n",
        "\n",
        "            img = img.to(device)\n",
        "            label = label.to(device)\n",
        "\n",
        "            optimizer.zero_grad()\n",
        "            hypothesis = net(img)\n",
        "            cost = criterion(hypothesis, label)\n",
        "\n",
        "            cost.backward()\n",
        "            optimizer.step()\n",
        "\n",
        "            print(\"train cost : %f\" % cost.item())\n",
        "\n",
        "        print('***** epoch %d is over *****' % epoch)\n",
        "\n",
        "        if epoch + 1 % 10 == 0:\n",
        "            with torch.no_grad():\n",
        "                for img, label in test_set:\n",
        "                    test_batch = img.size(0)\n",
        "\n",
        "                    img = img.to(device)\n",
        "                    label = label.to(device)\n",
        "\n",
        "                    prediction = net(img)\n",
        "                    cost = criterion(prediction, label)\n",
        "\n",
        "                    print(\"test cost : %f\" % cost.item())\n",
        "            \n",
        "            torch.save(net.state_dict(), './gender_classificater_epoch_%d.pth' % epoch)\n",
        "    \n",
        "    print('Learning Finished.')"
      ],
      "execution_count": 0,
      "outputs": []
    }
  ]
}